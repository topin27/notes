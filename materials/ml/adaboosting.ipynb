{
 "cells": [
  {
   "cell_type": "markdown",
   "metadata": {},
   "source": [
    "# 参考\n",
    "\n",
    "-《统计学习方法》 - 李航"
   ]
  },
  {
   "cell_type": "markdown",
   "metadata": {},
   "source": [
    "# 1. 基本思路\n",
    "\n",
    "## 1.1 强可学习与弱可学习\n",
    "\n",
    "在概率近似正确（probably approximately correct, PAC）学习的框架中，一个概念（一个类），如果存在一个多项式的学习算法能够学习它，并且正确率很高，那么就称这个概念是强可学习的；一个概念，如果存在一个多项式的学习算法能够学习它，但是学习的正确率仅比随机猜测略好，那么这个概念就是弱可学习的。\n",
    "\n",
    "大多数的boosting方法都是改变训练集的概率分布（训练数据的权值分布），针对不同的训练数据分布调用弱学习算法学习一系列弱分类器。\n",
    "\n",
    "## 1.2 两个问题\n",
    "\n",
    "1. 在每轮如何改变训练数据的权值或概率分布；\n",
    "2. 如何将弱分类器组合成一个强分类器。\n",
    "\n",
    "第一个问题，adaboost的做法是提高那些被前一轮弱分类器错误分类样本的权值，而降低那些被正确分类样本的权值。这样没有得到正确分类的数据，由于其权值的增大而受到后一轮弱分类器更大关注。第二个问题，adaboost使用加权多数表决的方法，具体的，加大分类误差率小的弱分类器的权值，使其在表决中起较大的作用。"
   ]
  },
  {
   "cell_type": "markdown",
   "metadata": {},
   "source": [
    "# 2. 算法\n",
    "\n",
    "1. 初始化训练集的权值分布\n",
    "$$D_i = (w_{11},...,w_{1i},...,w_{1N}), w_{1i}=\\frac{1}{N}, i=1,2,...,N$$\n",
    "2. 对$m=1,2,...,M$\n",
    "  1. 使用具有权值分布$D_m$的训练数据集学习，得到基本分类器\n",
    "  $$G_m(x):\\chi\\rightarrow\\{-1,+1\\}$$\n",
    "  2. 计算$G_m(x)$在训练数据集上的分类误差率\n",
    "  $$e_m=P(G_m(x_i)\\ne y_i)=\\sum_{i=1}^{N}w_{mi}I(G_m(x_i)\\ne y_i)$$\n",
    "  3. 计算$G_m(x)$的系数\n",
    "  $$\\alpha_m=\\frac{1}{2}\\log\\frac{1-e_m}{e_m}$$\n",
    "  $\\alpha_m$表示$G_m(x)$在最终分类器中的重要性\n",
    "  4. 更新训练数据集的权值分布\n",
    "  $$D_{m+1}=(w_{m+1,1},...,w_{m+1,i},...,w_{m+1,N})$$\n",
    "  $$w_{m+1,i}=\\frac{w_{mi}}{Z_m}exp(-\\alpha_my_iG_m(x_i)),  i=1,2,...,N$$\n",
    "  可以写成\n",
    "  $$w_{m+1,i}=\\left\\{\n",
    "  \\begin{aligned}\n",
    "  \\frac{w_{mi}}{Z_m}e^{-\\alpha_m}, G_m(x_i)=y_i\\\\\n",
    "  \\frac{w_{mi}}{Z_m}e^{\\alpha_m}, G_m(x_i)\\ne y_i\n",
    "  \\end{aligned}\n",
    "  \\right.$$\n",
    "  这里，$Z_m$是规范化因子\n",
    "  $$Z_m=\\sum_{i=1}^{N}w_{mi}exp(-\\alpha_my_iG_m(x_i))$$\n",
    "  它使$D_{m+1}$成为一个概率分布。\n",
    "3. 构建基本分类器的线性组合\n",
    "$$f(x)=\\sum_{m=1}^{M}\\alpha_mG_m(x)$$\n",
    "得到最终分类器\n",
    "$$G(x)=sign(f(x))=sign\\lgroup\\sum_{m=1}^M\\alpha_mG_m(x)\\rgroup$$"
   ]
  },
  {
   "cell_type": "code",
   "execution_count": null,
   "metadata": {},
   "outputs": [],
   "source": []
  }
 ],
 "metadata": {
  "kernelspec": {
   "display_name": "Python 2",
   "language": "python",
   "name": "python2"
  },
  "language_info": {
   "codemirror_mode": {
    "name": "ipython",
    "version": 2
   },
   "file_extension": ".py",
   "mimetype": "text/x-python",
   "name": "python",
   "nbconvert_exporter": "python",
   "pygments_lexer": "ipython2",
   "version": "2.7.10"
  }
 },
 "nbformat": 4,
 "nbformat_minor": 2
}
